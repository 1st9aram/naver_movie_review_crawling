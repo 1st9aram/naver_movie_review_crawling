{
  "nbformat": 4,
  "nbformat_minor": 0,
  "metadata": {
    "colab": {
      "name": "naver_movie_review_crawling.ipynb",
      "provenance": [],
      "collapsed_sections": [],
      "authorship_tag": "ABX9TyNMyFdcd9dXzAvE5hV9hEhK",
      "include_colab_link": true
    },
    "kernelspec": {
      "name": "python3",
      "display_name": "Python 3"
    },
    "language_info": {
      "name": "python"
    }
  },
  "cells": [
    {
      "cell_type": "markdown",
      "metadata": {
        "id": "view-in-github",
        "colab_type": "text"
      },
      "source": [
        "<a href=\"https://colab.research.google.com/github/1st9aram/naver_movie_review_crawling/blob/main/naver_movie_review_crawling.ipynb\" target=\"_parent\"><img src=\"https://colab.research.google.com/assets/colab-badge.svg\" alt=\"Open In Colab\"/></a>"
      ]
    },
    {
      "cell_type": "code",
      "source": [
        "from google.colab import drive\n",
        "drive.mount('/content/drive')"
      ],
      "metadata": {
        "colab": {
          "base_uri": "https://localhost:8080/"
        },
        "id": "X7o8NLkLPkMb",
        "outputId": "9543ef0c-d235-4ee1-f6fe-a550c33e8b8a"
      },
      "execution_count": 1,
      "outputs": [
        {
          "output_type": "stream",
          "name": "stdout",
          "text": [
            "Drive already mounted at /content/drive; to attempt to forcibly remount, call drive.mount(\"/content/drive\", force_remount=True).\n"
          ]
        }
      ]
    },
    {
      "cell_type": "code",
      "source": [
        "import os\n",
        "import requests\n",
        "from bs4 import BeautifulSoup\n",
        "import time\n",
        "import csv"
      ],
      "metadata": {
        "id": "LcfTJBsJPrn-"
      },
      "execution_count": 2,
      "outputs": []
    },
    {
      "cell_type": "code",
      "source": [
        "print(os.getcwd())"
      ],
      "metadata": {
        "colab": {
          "base_uri": "https://localhost:8080/"
        },
        "id": "Sz7BOTfjPzKz",
        "outputId": "6e275a30-a509-41d6-881e-8e938a52e08f"
      },
      "execution_count": 3,
      "outputs": [
        {
          "output_type": "stream",
          "name": "stdout",
          "text": [
            "/content\n"
          ]
        }
      ]
    },
    {
      "cell_type": "code",
      "source": [
        "os.chdir('/content/drive/MyDrive/Colab Notebooks/')\n",
        "\n",
        "print(os.getcwd())"
      ],
      "metadata": {
        "colab": {
          "base_uri": "https://localhost:8080/"
        },
        "id": "nGRay2YMPlXZ",
        "outputId": "29d5443e-c569-422d-cad8-2fe7040f779b"
      },
      "execution_count": 4,
      "outputs": [
        {
          "output_type": "stream",
          "name": "stdout",
          "text": [
            "/content/drive/MyDrive/Colab Notebooks\n"
          ]
        }
      ]
    },
    {
      "cell_type": "code",
      "source": [
        "base_url = 'https://movie.naver.com/movie/point/af/list.naver?&page={}'\n",
        "movie_rawdata = [('movie', 'sentence', 'score')]\n",
        "\n",
        "for page in range(1, 120):\n",
        "    url = base_url.format(page)\n",
        "    res = requests.get(url)\n",
        "    if res.status_code == 200:\n",
        "        soup = BeautifulSoup(res.text, 'lxml')\n",
        "        tds = soup.select('table.list_netizen > tbody > tr > td.title')\n",
        "        for td in tds:\n",
        "            movie = td.select_one('a.movie').text.strip()\n",
        "            sentence = td.select_one('br').next_sibling.strip()\n",
        "            score = td.select_one('div.list_netizen_score > em').text.strip()\n",
        "            movie_rawdata.append((movie, sentence, int(score)))\n",
        "        time.sleep(0.8)\n",
        "print('종료')"
      ],
      "metadata": {
        "colab": {
          "base_uri": "https://localhost:8080/"
        },
        "id": "9z6P0TT8bio2",
        "outputId": "9242eb7d-86a2-48e4-f078-63cfb5cb7d74"
      },
      "execution_count": 5,
      "outputs": [
        {
          "output_type": "stream",
          "name": "stdout",
          "text": [
            "종료\n"
          ]
        }
      ]
    },
    {
      "cell_type": "code",
      "source": [
        "movie_rawdata[:10]"
      ],
      "metadata": {
        "colab": {
          "base_uri": "https://localhost:8080/"
        },
        "id": "t0R8oa2MeJVk",
        "outputId": "6663d750-a20c-493a-d179-f64db12f5d92"
      },
      "execution_count": 6,
      "outputs": [
        {
          "output_type": "execute_result",
          "data": {
            "text/plain": [
              "[('movie', 'sentence', 'score'),\n",
              " ('모노노케 히메', '', 10),\n",
              " ('킹스맨: 퍼스트 에이전트',\n",
              "  '평점 때문에 기대를 안해서 그런가 재밌었음. 꿀잼은 아니여도 볼만함. 킹스맨 특유의 액션신은 별로 없지만 재밌었음. 아들 헤드샷은 어이털렸지만  나머지라고 안죽은게 다행. 더크라운에서 봤던 영국사가 조금 나와서 반갑',\n",
              "  8),\n",
              " ('나의 촛불',\n",
              "  '박근혜가 임명한 박영수,윤석렬특검에 의해 파면된 박대통령. 인간적으로 안타깝고 아프지만 이또한 역사의 한조각이리. 많은 국민들이 촛불을 든건  자식세대에게 이런 아픔을 다신 보여주지 않겠다는 다짐이었으며 앞으로 나아가기 위한 전진이었으리. 다신 이런일이 생기면 안될것이다. 주술이, 무당이 청와대에 다시 기웃 거리고 있다.좌우를 떠나 냉정하게 판단하여 투표를 꼭 하여야 한다.',\n",
              "  10),\n",
              " ('나의 촛불', '좌파특유의 기획노잼영화', 1),\n",
              " ('나의 촛불', '토나온다홍어들아 ㅋㅋㅋ', 1),\n",
              " ('나의 촛불', '이딴것도 영화라고 ㅋㅋㅋㅋ', 1),\n",
              " ('나의 촛불', '촛불이 생각나서 뭉클했음', 10),\n",
              " ('해적: 도깨비 깃발', '너무재밌게 잘봤습니다', 8),\n",
              " ('나의 촛불', '음식물 쓰레기를 먹고 배설한 선거용 똥찌꺼기', 1)]"
            ]
          },
          "metadata": {},
          "execution_count": 6
        }
      ]
    },
    {
      "cell_type": "code",
      "source": [
        "len(movie_rawdata)"
      ],
      "metadata": {
        "colab": {
          "base_uri": "https://localhost:8080/"
        },
        "id": "EfcfGfPyurBe",
        "outputId": "b634f031-05b3-452a-bb4d-553be66b3332"
      },
      "execution_count": 7,
      "outputs": [
        {
          "output_type": "execute_result",
          "data": {
            "text/plain": [
              "1191"
            ]
          },
          "metadata": {},
          "execution_count": 7
        }
      ]
    },
    {
      "cell_type": "code",
      "source": [
        "# 크롤링 된 데이터에서 'sentence'가 공백인 데이터 제거\n",
        "movie_data = []\n",
        "\n",
        "for i in range(len(movie_rawdata)):\n",
        "             if movie_rawdata[i][1] != '':\n",
        "                 movie_data.append(movie_rawdata[i])"
      ],
      "metadata": {
        "id": "PyjmoWw4uwah"
      },
      "execution_count": 8,
      "outputs": []
    },
    {
      "cell_type": "code",
      "source": [
        "movie_data[:10]"
      ],
      "metadata": {
        "colab": {
          "base_uri": "https://localhost:8080/"
        },
        "id": "4oCIb-8iWIdr",
        "outputId": "d6fa8794-08b0-4435-aeee-67c1083420e0"
      },
      "execution_count": 9,
      "outputs": [
        {
          "output_type": "execute_result",
          "data": {
            "text/plain": [
              "[('movie', 'sentence', 'score'),\n",
              " ('킹스맨: 퍼스트 에이전트',\n",
              "  '평점 때문에 기대를 안해서 그런가 재밌었음. 꿀잼은 아니여도 볼만함. 킹스맨 특유의 액션신은 별로 없지만 재밌었음. 아들 헤드샷은 어이털렸지만  나머지라고 안죽은게 다행. 더크라운에서 봤던 영국사가 조금 나와서 반갑',\n",
              "  8),\n",
              " ('나의 촛불',\n",
              "  '박근혜가 임명한 박영수,윤석렬특검에 의해 파면된 박대통령. 인간적으로 안타깝고 아프지만 이또한 역사의 한조각이리. 많은 국민들이 촛불을 든건  자식세대에게 이런 아픔을 다신 보여주지 않겠다는 다짐이었으며 앞으로 나아가기 위한 전진이었으리. 다신 이런일이 생기면 안될것이다. 주술이, 무당이 청와대에 다시 기웃 거리고 있다.좌우를 떠나 냉정하게 판단하여 투표를 꼭 하여야 한다.',\n",
              "  10),\n",
              " ('나의 촛불', '좌파특유의 기획노잼영화', 1),\n",
              " ('나의 촛불', '토나온다홍어들아 ㅋㅋㅋ', 1),\n",
              " ('나의 촛불', '이딴것도 영화라고 ㅋㅋㅋㅋ', 1),\n",
              " ('나의 촛불', '촛불이 생각나서 뭉클했음', 10),\n",
              " ('해적: 도깨비 깃발', '너무재밌게 잘봤습니다', 8),\n",
              " ('나의 촛불', '음식물 쓰레기를 먹고 배설한 선거용 똥찌꺼기', 1),\n",
              " ('나의 촛불', '징하다 징해 나라가 개판인데 먼짓거리여그만들좀 하쇼', 1)]"
            ]
          },
          "metadata": {},
          "execution_count": 9
        }
      ]
    },
    {
      "cell_type": "code",
      "source": [
        "len(movie_data)"
      ],
      "metadata": {
        "colab": {
          "base_uri": "https://localhost:8080/"
        },
        "id": "3U3zc4zeWYpU",
        "outputId": "08dad25c-cd0a-40aa-97d6-b1d4edaeb6b0"
      },
      "execution_count": 10,
      "outputs": [
        {
          "output_type": "execute_result",
          "data": {
            "text/plain": [
              "1117"
            ]
          },
          "metadata": {},
          "execution_count": 10
        }
      ]
    },
    {
      "cell_type": "code",
      "source": [
        "# 중복으로 크롤링 된 데이터 제거\n",
        "movie_data_2 = []\n",
        "\n",
        "for i in range(len(movie_data)):\n",
        "             if movie_data[i][1] != movie_data[i-1][1]:\n",
        "                 movie_data_2.append(movie_data[i])"
      ],
      "metadata": {
        "id": "-8rpqwzQZHOY"
      },
      "execution_count": 11,
      "outputs": []
    },
    {
      "cell_type": "code",
      "source": [
        "len(movie_data_2)"
      ],
      "metadata": {
        "colab": {
          "base_uri": "https://localhost:8080/"
        },
        "id": "JVhe3DqfagIP",
        "outputId": "05e16c67-88d7-4e80-8205-eafdda55c829"
      },
      "execution_count": 12,
      "outputs": [
        {
          "output_type": "execute_result",
          "data": {
            "text/plain": [
              "1105"
            ]
          },
          "metadata": {},
          "execution_count": 12
        }
      ]
    },
    {
      "cell_type": "code",
      "source": [
        "f = open(\"samples.csv\", \"w\", encoding='utf-8-sig')\n",
        "writer = csv.writer(f)\n",
        "\n",
        "for row in movie_data_2:\n",
        "    writer.writerow(row)\n",
        "\n",
        "f.close()"
      ],
      "metadata": {
        "id": "Rf8XmOawhj70"
      },
      "execution_count": 13,
      "outputs": []
    }
  ]
}